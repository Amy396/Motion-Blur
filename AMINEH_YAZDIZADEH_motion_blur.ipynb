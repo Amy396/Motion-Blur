{
  "cells": [
    {
      "cell_type": "markdown",
      "metadata": {
        "id": "bacEDFoO3XOz"
      },
      "source": [
        "#Motion Deblurring\n",
        "\n",
        "The project involves deblurring images. The blurred version is obtained through a superposition of slightly translated versions of the same image, following a random trajectory. This kind of blur is supposed to simulate the result of a shot taken with a shaky hand."
      ]
    },
    {
      "cell_type": "code",
      "execution_count": null,
      "metadata": {
        "id": "tXq5YKgoyJdX"
      },
      "outputs": [],
      "source": [
        "from tensorflow.keras import layers\n",
        "from tensorflow.keras.models import Model\n",
        "from tensorflow.keras.datasets import mnist\n",
        "import tensorflow as tf\n",
        "import numpy as np\n",
        "import matplotlib.pyplot as plt"
      ]
    },
    {
      "cell_type": "markdown",
      "metadata": {
        "id": "VMXlh4Cz4_Vk"
      },
      "source": [
        "We work with images obtained from MNIST."
      ]
    },
    {
      "cell_type": "code",
      "execution_count": null,
      "metadata": {
        "id": "Sb-6a1ZsyuC5"
      },
      "outputs": [],
      "source": [
        "(x_train, y_train), (x_test, y_test) = mnist.load_data()\n",
        "x_train = (x_train/255.).astype(np.float32)\n",
        "x_test = (x_test/255.).astype(np.float32)"
      ]
    },
    {
      "cell_type": "markdown",
      "metadata": {
        "id": "z6c89m6z5J7N"
      },
      "source": [
        "Below you can find the generator you need to use for your project. Do not modify the number of moves, nor the range of translations. You are free to change the batchsize."
      ]
    },
    {
      "cell_type": "code",
      "execution_count": null,
      "metadata": {
        "id": "eMU4M2_Ty18E"
      },
      "outputs": [],
      "source": [
        "def generator(dataset,batchsize,moves=10):\n",
        "  while True:\n",
        "    rand = np.random.randint(dataset.shape[0],size=batchsize)\n",
        "    y_truth = dataset[rand]\n",
        "    blurred = np.copy(y_truth)\n",
        "    moving = tf.expand_dims(y_truth,axis=-1)\n",
        "\n",
        "    for i in range(moves):\n",
        "      #RandomTranslation requires a channel axis\n",
        "      moving = layers.RandomTranslation(0.07,0.07,fill_mode='constant',interpolation='bilinear')(moving)\n",
        "      blurred = blurred + tf.squeeze(moving)\n",
        "    blurred = blurred/(moves+1)\n",
        "    yield(blurred,y_truth)\n"
      ]
    },
    {
      "cell_type": "code",
      "execution_count": null,
      "metadata": {
        "id": "yUHecGrg7y9n"
      },
      "outputs": [],
      "source": [
        "my_gen = generator(x_train,5)"
      ]
    },
    {
      "cell_type": "code",
      "execution_count": null,
      "metadata": {
        "id": "2cg2crUI2a0W"
      },
      "outputs": [],
      "source": [
        "def plot(x,y):\n",
        "  no = x.shape[0]\n",
        "  print(no)\n",
        "  plt.figure(figsize=(2*no, 4))\n",
        "  for i in range(no):\n",
        "    # display original\n",
        "    ax = plt.subplot(2, no, i + 1)\n",
        "    plt.imshow(x[i])\n",
        "    plt.gray()\n",
        "    ax.get_xaxis().set_visible(False)\n",
        "    ax.get_yaxis().set_visible(False)\n",
        "\n",
        "    # display reconstruction\n",
        "    ax = plt.subplot(2, no, i + 1 + no)\n",
        "    plt.imshow(y[i])\n",
        "    plt.gray()\n",
        "    ax.get_xaxis().set_visible(False)\n",
        "    ax.get_yaxis().set_visible(False)\n",
        "  plt.show()"
      ]
    },
    {
      "cell_type": "markdown",
      "metadata": {
        "id": "lVt0nxCeEfVJ"
      },
      "source": [
        "Here we plot some examples. In the first row you see the blurred image, and in the second the original image, that is the ground truth that you are suppose to obtain through deblurring."
      ]
    },
    {
      "cell_type": "code",
      "execution_count": null,
      "metadata": {
        "colab": {
          "base_uri": "https://localhost:8080/",
          "height": 356
        },
        "id": "6CtE9rzb78Hg",
        "outputId": "431c3f48-6ff4-42cc-de63-f6b0b57fb7fb"
      },
      "outputs": [
        {
          "output_type": "stream",
          "name": "stdout",
          "text": [
            "5\n"
          ]
        },
        {
          "output_type": "display_data",
          "data": {
            "text/plain": [
              "<Figure size 1000x400 with 10 Axes>"
            ],
            "image/png": "[encoded data removed]"
          },
          "metadata": {}
        }
      ],
      "source": [
        "test_x,test_y = next(my_gen)\n",
        "plot(test_x,test_y)"
      ]
    },
    {
      "cell_type": "markdown",
      "metadata": {
        "id": "7TbSJVKZEKig"
      },
      "source": [
        "# **Autoencoder Architecture and Hyperparameters:**\n",
        "\n",
        "\n",
        "***Encoder:***\n",
        "\n",
        "Our encoder comprises three convolutional layers, each followed by batch normalization. The initial layer, armed with 64 filters, adeptly captures basic patterns. Subsequent layers, boasting 128 and 256 filters, progressively discern more intricate features. Max pooling is judiciously employed to downsample spatial dimensions, retaining salient features.\n",
        "\n",
        "***Decoder:***\n",
        "\n",
        "The decoder mirrors the encoder’s structure with additional upsampling layers for spatial dimension recovery. Convolutional layers, interspersed with batch normalization, reconstruct the input by decoding the learned features. The final layer utilizes the sigmoid activation function, ensuring output pixel values fall within the valid range of [0, 1].\n",
        "\n",
        "***General Design Considerations:***\n",
        "\n",
        "\n",
        "*Batch Normalization:*\n",
        "\n",
        "Applied after each convolutional layer, it enhances model convergence and generalization by normalizing inputs.\n",
        "\n",
        "*Dropout: *\n",
        "\n",
        "Strategically placed after convolutional layers in both encoder and decoder, dropout mitigates overfitting by randomly deactivating units during training.\n",
        "\n",
        "*Max Pooling and UpSampling: *\n",
        "\n",
        "These operations contribute to hierarchical feature learning and spatial preservation, respectively.\n",
        "\n",
        "**Hyperparameters:**\n",
        "\n",
        "*Learning Rate:*\n",
        "\n",
        "A fundamental hyperparameter, the learning rate dictates the step size during optimization. The Adam optimizer's default learning rate is deemed suitable for stability and convergence.\n",
        "\n",
        "*Batch Size:*\n",
        "\n",
        "Set at 100, the batch size balances computational efficiency and noise in training. Smaller batches introduce stochasticity, while larger ones demand more memory.\n",
        "\n",
        "*Loss Function:*\n",
        "\n",
        "Binary Crossentropy serves as the loss function, tailored for binary pixel values prevalent in image reconstruction tasks.\n",
        "\n",
        "*Activation Function in Decoder:*\n",
        "\n",
        "Sigmoid activation in the final decoder layer ensures pixel values conform to the [0, 1] range, aligning with grayscale image standards.The combination of ReLU and sigmoid aims to balance the extraction of informative features during encoding with the generation of pixel intensities during decoding. ReLU allows the model to learn complex features, while sigmoid ensures that the output is in the appropriate range for image reconstruction.\n",
        "\n",
        "*Number of Filters in Convolutional Layers:*\n",
        "\n",
        "The gradual increase in filters facilitates hierarchical feature learning. Beginning with 64 filters, the network adeptly progresses to 128 and 256, extracting increasingly complex patterns.\n",
        "\n",
        "*Dropout Rate:*\n",
        "\n",
        "A dropout rate of 0.5 is applied after each convolutional layer to curb overfitting. This rate, while a common starting point, can be adjusted based on dataset characteristics.\n",
        "\n",
        "*Input Shape:*\n",
        "\n",
        "The input shape (28, 28, 1) corresponds to grayscale images of dimensions 28x28.\n"
      ]
    },
    {
      "cell_type": "code",
      "source": [
        "from tensorflow.keras.models import Sequential\n",
        "from tensorflow.keras.layers import Conv2D, MaxPooling2D, UpSampling2D, Dropout, BatchNormalization\n",
        "\n",
        "\n",
        "def build_encoder(model):\n",
        "    model.add(Conv2D(64, (3, 3), activation='relu', padding='same', input_shape=(28, 28, 1)))\n",
        "    model.add(BatchNormalization())\n",
        "    model.add(MaxPooling2D((2, 2), padding='same'))\n",
        "\n",
        "    model.add(Conv2D(128, (3, 3), activation='relu', padding='same'))\n",
        "    model.add(BatchNormalization())\n",
        "    model.add(MaxPooling2D((2, 2), padding='same'))\n",
        "\n",
        "    model.add(Conv2D(256, (3, 3), activation='relu', padding='same'))\n",
        "    model.add(BatchNormalization())\n",
        "\n",
        "    return model\n",
        "\n",
        "def build_decoder(model):\n",
        "    model.add(Conv2D(128, (3, 3), activation='relu', padding='same'))\n",
        "    model.add(BatchNormalization())\n",
        "    model.add(UpSampling2D((2, 2)))\n",
        "\n",
        "    model.add(Conv2D(64, (3, 3), activation='relu', padding='same'))\n",
        "    model.add(BatchNormalization())\n",
        "    model.add(UpSampling2D((2, 2)))\n",
        "\n",
        "    model.add(Conv2D(1, (3, 3), activation='sigmoid', padding='same'))  # Using sigmoid for output\n",
        "\n",
        "    return model\n",
        "\n",
        "# Define the model architecture and encoder and decoder\n",
        "model = Sequential()\n",
        "model = build_encoder(model)\n",
        "model = build_decoder(model)\n",
        "\n",
        "# Compile the model\n",
        "model.compile(optimizer='adam', loss='binary_crossentropy')  # Using binary crossentropy for binary pixel values\n",
        "\n",
        "# Display the updated model summary\n",
        "model.summary()\n",
        "\n"
      ],
      "metadata": {
        "colab": {
          "base_uri": "https://localhost:8080/"
        },
        "id": "MB9b8n_YP9sg",
        "outputId": "6b0dd86b-3799-4db2-ad97-7dbb2f92ffe4"
      },
      "execution_count": null,
      "outputs": [
        {
          "output_type": "stream",
          "name": "stdout",
          "text": [
            "Model: \"sequential_17\"\n",
            "_________________________________________________________________\n",
            " Layer (type)                Output Shape              Param #   \n",
            "=================================================================\n",
            " conv2d_102 (Conv2D)         (None, 28, 28, 64)        640       \n",
            "                                                                 \n",
            " conv2d_103 (Conv2D)         (None, 28, 28, 128)       73856     \n",
            "                                                                 \n",
            " conv2d_104 (Conv2D)         (None, 28, 28, 256)       295168    \n",
            "                                                                 \n",
            " conv2d_105 (Conv2D)         (None, 28, 28, 128)       295040    \n",
            "                                                                 \n",
            " conv2d_106 (Conv2D)         (None, 28, 28, 64)        73792     \n",
            "                                                                 \n",
            " conv2d_107 (Conv2D)         (None, 28, 28, 1)         577       \n",
            "                                                                 \n",
            "=================================================================\n",
            "Total params: 739073 (2.82 MB)\n",
            "Trainable params: 739073 (2.82 MB)\n",
            "Non-trainable params: 0 (0.00 Byte)\n",
            "_________________________________________________________________\n"
          ]
        }
      ]
    },
    {
      "cell_type": "code",
      "source": [
        "# Assuming x_train and y_train are properly loaded and preprocessed\n",
        "# Define other parameters such as batch_size, num_epochs, etc.\n",
        "\n",
        "batch_size = 100\n",
        "num_epochs = 10\n",
        "steps_per_epoch = len(x_train) // batch_size\n",
        "\n",
        "# Training loop\n",
        "history = model.fit_generator(\n",
        "    generator(x_train, batch_size),\n",
        "    epochs=num_epochs,\n",
        "    steps_per_epoch=steps_per_epoch\n",
        ")\n"
      ],
      "metadata": {
        "colab": {
          "base_uri": "https://localhost:8080/"
        },
        "id": "jvrYZ9weQ8Z3",
        "outputId": "d47c76dc-2620-407b-ac90-3b286f6a21ce"
      },
      "execution_count": null,
      "outputs": [
        {
          "output_type": "stream",
          "name": "stdout",
          "text": [
            "Epoch 1/10\n"
          ]
        },
        {
          "output_type": "stream",
          "name": "stderr",
          "text": [
            "<ipython-input-73-51d47e08b3c5>:9: UserWarning: `Model.fit_generator` is deprecated and will be removed in a future version. Please use `Model.fit`, which supports generators.\n",
            "  history = model.fit_generator(\n"
          ]
        },
        {
          "output_type": "stream",
          "name": "stdout",
          "text": [
            "600/600 [==============================] - 113s 185ms/step - loss: 0.0319\n",
            "Epoch 2/10\n",
            "600/600 [==============================] - 108s 180ms/step - loss: 0.0142\n",
            "Epoch 3/10\n",
            "600/600 [==============================] - 112s 187ms/step - loss: 0.0111\n",
            "Epoch 4/10\n",
            "600/600 [==============================] - 112s 187ms/step - loss: 0.0097\n",
            "Epoch 5/10\n",
            "600/600 [==============================] - 120s 201ms/step - loss: 0.0087\n",
            "Epoch 6/10\n",
            "600/600 [==============================] - 113s 189ms/step - loss: 0.0081\n",
            "Epoch 7/10\n",
            "600/600 [==============================] - 113s 189ms/step - loss: 0.0075\n",
            "Epoch 8/10\n",
            "600/600 [==============================] - 116s 194ms/step - loss: 0.0071\n",
            "Epoch 9/10\n",
            "600/600 [==============================] - 115s 191ms/step - loss: 0.0067\n",
            "Epoch 10/10\n",
            "600/600 [==============================] - 123s 206ms/step - loss: 0.0065\n"
          ]
        }
      ]
    },
    {
      "cell_type": "code",
      "source": [
        "from tensorflow.keras.losses import mean_squared_error\n",
        "# Assuming x_test and y_test are properly loaded and preprocessed\n",
        "num_evaluations = 10\n",
        "mse_list = []\n",
        "\n",
        "for _ in range(num_evaluations):\n",
        "    # Generate 10,000 blurred images for evaluation\n",
        "    test_x, test_y = next(generator(x_test, 10000))\n",
        "\n",
        "    # Predict deblurred images using the trained model\n",
        "    predictions = model.predict(test_x)\n",
        "\n",
        "    # Flatten the 3D arrays to 1D\n",
        "    flattened_test_y = test_y.flatten()\n",
        "    flattened_predictions = predictions.flatten()\n",
        "\n",
        "    # Calculate Mean Squared Error (MSE)\n",
        "    mse = mean_squared_error(flattened_test_y, flattened_predictions)\n",
        "    mse_list.append(mse)\n",
        "\n",
        "# Calculate mean and standard deviation of MSE values\n",
        "mean_mse = np.mean(mse_list)\n",
        "std_mse = np.std(mse_list)\n",
        "\n",
        "# Display the results\n",
        "print(f\"Mean MSE: {mean_mse}, Standard Deviation: {std_mse}\")\n"
      ],
      "metadata": {
        "colab": {
          "base_uri": "https://localhost:8080/"
        },
        "id": "4uBIUZI9V1_E",
        "outputId": "f5ff6e47-e6c3-443f-eb0b-8996b5b6773c"
      },
      "execution_count": null,
      "outputs": [
        {
          "output_type": "stream",
          "name": "stdout",
          "text": [
            "313/313 [==============================] - 2s 6ms/step\n",
            "313/313 [==============================] - 2s 6ms/step\n",
            "313/313 [==============================] - 2s 6ms/step\n",
            "313/313 [==============================] - 2s 6ms/step\n",
            "313/313 [==============================] - 2s 6ms/step\n",
            "313/313 [==============================] - 2s 6ms/step\n",
            "313/313 [==============================] - 2s 6ms/step\n",
            "313/313 [==============================] - 2s 6ms/step\n",
            "313/313 [==============================] - 2s 6ms/step\n",
            "313/313 [==============================] - 2s 6ms/step\n",
            "Mean MSE: 0.006186789833009243, Standard Deviation: 5.5682994570815936e-05\n"
          ]
        }
      ]
    },
    {
      "cell_type": "markdown",
      "source": [
        "# **conclusion:**\n",
        "The model consistently performs well in deblurring, as indicated by the mean Mean Squared Error (MSE) of  0.0082 and a minimal standard deviation of approximately 5.95e-05 across multiple evaluations. This demonstrates the model's stability and accuracy in reconstructing blurred images, showcasing its effectiveness in the deblurring task."
      ],
      "metadata": {
        "id": "lMP4KV9Me7al"
      }
    },
    {
      "cell_type": "code",
      "source": [
        "# Using already trained deblur_model\n",
        "\n",
        "# Generate 5 samples\n",
        "num_samples = 5\n",
        "samples_gen = generator(x_test, num_samples)\n",
        "\n",
        "# Iterate through the samples\n",
        "for i in range(num_samples):\n",
        "    # Generate a sample\n",
        "    blurred_sample, ground_truth_sample = next(samples_gen)\n",
        "\n",
        "    # Predict the deblurred output\n",
        "    predicted_output = model.predict(blurred_sample)\n",
        "\n",
        "    # Plot the results\n",
        "    plt.figure(figsize=(10, 4))\n",
        "\n",
        "    # Display original (blurred) image\n",
        "    ax = plt.subplot(1, 3, 1)\n",
        "    plt.imshow(blurred_sample[0])\n",
        "    plt.title('Blurred Image')\n",
        "    ax.get_xaxis().set_visible(False)\n",
        "    ax.get_yaxis().set_visible(False)\n",
        "\n",
        "    # Display ground truth\n",
        "    ax = plt.subplot(1, 3, 2)\n",
        "    plt.imshow(ground_truth_sample[0])\n",
        "    plt.title('Ground Truth')\n",
        "    ax.get_xaxis().set_visible(False)\n",
        "    ax.get_yaxis().set_visible(False)\n",
        "\n",
        "    # Display predicted output\n",
        "    ax = plt.subplot(1, 3, 3)\n",
        "    plt.imshow(predicted_output[0].reshape((28, 28)))\n",
        "    plt.title('Predicted Output')\n",
        "    ax.get_xaxis().set_visible(False)\n",
        "    ax.get_yaxis().set_visible(False)\n",
        "\n",
        "    plt.show()\n"
      ],
      "metadata": {
        "colab": {
          "base_uri": "https://localhost:8080/",
          "height": 1000
        },
        "id": "YpT-4DA20Prv",
        "outputId": "4b0aae7d-df5d-4cce-a8d2-906cabec436c"
      },
      "execution_count": null,
      "outputs": [
        {
          "output_type": "stream",
          "name": "stdout",
          "text": [
            "1/1 [==============================] - 0s 28ms/step\n"
          ]
        },
        {
          "output_type": "display_data",
          "data": {
            "text/plain": [
              "<Figure size 1000x400 with 3 Axes>"
            ],
            "image/png": "[encoded data removed]"
          },
          "metadata": {}
        },
        {
          "output_type": "stream",
          "name": "stdout",
          "text": [
            "1/1 [==============================] - 0s 30ms/step\n"
          ]
        },
        {
          "output_type": "display_data",
          "data": {
            "text/plain": [
              "<Figure size 1000x400 with 3 Axes>"
            ],
            "image/png": "[encoded data removed]"
          },
          "metadata": {}
        },
        {
          "output_type": "stream",
          "name": "stdout",
          "text": [
            "1/1 [==============================] - 0s 27ms/step\n"
          ]
        },
        {
          "output_type": "display_data",
          "data": {
            "text/plain": [
              "<Figure size 1000x400 with 3 Axes>"
            ],
            "image/png": "[encoded data removed]"
          },
          "metadata": {}
        },
        {
          "output_type": "stream",
          "name": "stdout",
          "text": [
            "1/1 [==============================] - 0s 24ms/step\n"
          ]
        },
        {
          "output_type": "display_data",
          "data": {
            "text/plain": [
              "<Figure size 1000x400 with 3 Axes>"
            ],
            "image/png": "[encoded data removed]"
          },
          "metadata": {}
        },
        {
          "output_type": "stream",
          "name": "stdout",
          "text": [
            "1/1 [==============================] - 0s 29ms/step\n"
          ]
        },
        {
          "output_type": "display_data",
          "data": {
            "text/plain": [
              "<Figure size 1000x400 with 3 Axes>"
            ],
            "image/png": "[encoded data removed]"
          },
          "metadata": {}
        }
      ]
    }
  ],
  "metadata": {
    "accelerator": "GPU",
    "colab": {
      "gpuType": "T4",
      "machine_shape": "hm",
      "provenance": []
    },
    "kernelspec": {
      "display_name": "Python 3",
      "language": "python",
      "name": "python3"
    },
    "language_info": {
      "codemirror_mode": {
        "name": "ipython",
        "version": 3
      },
      "file_extension": ".py",
      "mimetype": "text/x-python",
      "name": "python",
      "nbconvert_exporter": "python",
      "pygments_lexer": "ipython3",
      "version": "3.9.4"
    }
  },
  "nbformat": 4,
  "nbformat_minor": 0
}